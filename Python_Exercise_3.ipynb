{
  "nbformat": 4,
  "nbformat_minor": 0,
  "metadata": {
    "colab": {
      "name": "Python Exercise 3",
      "provenance": [],
      "authorship_tag": "ABX9TyNd98bFBP3uZEk/G0ZQ4H1a",
      "include_colab_link": true
    },
    "kernelspec": {
      "name": "python3",
      "display_name": "Python 3"
    },
    "language_info": {
      "name": "python"
    }
  },
  "cells": [
    {
      "cell_type": "markdown",
      "metadata": {
        "id": "view-in-github",
        "colab_type": "text"
      },
      "source": [
        "<a href=\"https://colab.research.google.com/github/JohnPatrickChipongian/Numerical-Methods/blob/main/Python_Exercise_3.ipynb\" target=\"_parent\"><img src=\"https://colab.research.google.com/assets/colab-badge.svg\" alt=\"Open In Colab\"/></a>"
      ]
    },
    {
      "cell_type": "markdown",
      "metadata": {
        "id": "lRbp0MdeYZ5c"
      },
      "source": [
        "### Determinants of Matrix using numpy.linalg.det"
      ]
    },
    {
      "cell_type": "code",
      "metadata": {
        "colab": {
          "base_uri": "https://localhost:8080/"
        },
        "id": "mmwbP2BtYe3M",
        "outputId": "86edb557-f58b-4c22-add7-aade0d43f066"
      },
      "source": [
        "import numpy as np\n",
        "\n",
        "A = np.array([\n",
        "              [1,2,-1],\n",
        "              [4,6,-2],\n",
        "              [-1,3,3]\n",
        "])\n",
        "print(A)"
      ],
      "execution_count": 2,
      "outputs": [
        {
          "output_type": "stream",
          "name": "stdout",
          "text": [
            "[[ 1  2 -1]\n",
            " [ 4  6 -2]\n",
            " [-1  3  3]]\n"
          ]
        }
      ]
    },
    {
      "cell_type": "code",
      "metadata": {
        "colab": {
          "base_uri": "https://localhost:8080/"
        },
        "id": "oJl26wNMZUE7",
        "outputId": "44115b88-6ca4-4012-a246-414de8c220f8"
      },
      "source": [
        "print((np.linalg.det(A)))"
      ],
      "execution_count": 8,
      "outputs": [
        {
          "output_type": "stream",
          "name": "stdout",
          "text": [
            "-13.999999999999996\n"
          ]
        }
      ]
    },
    {
      "cell_type": "code",
      "metadata": {
        "colab": {
          "base_uri": "https://localhost:8080/"
        },
        "id": "4Fb7dzShasRX",
        "outputId": "54fdc9a3-a6e9-4dae-83f7-6d2d7d788671"
      },
      "source": [
        "print(round(np.linalg.det(A)))"
      ],
      "execution_count": 9,
      "outputs": [
        {
          "output_type": "stream",
          "name": "stdout",
          "text": [
            "-14\n"
          ]
        }
      ]
    }
  ]
}