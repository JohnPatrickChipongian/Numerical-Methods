{
  "nbformat": 4,
  "nbformat_minor": 0,
  "metadata": {
    "colab": {
      "name": "Python Excercise 2",
      "provenance": [],
      "authorship_tag": "ABX9TyM9WxQFa93Lm0tsYhDYoHel",
      "include_colab_link": true
    },
    "kernelspec": {
      "name": "python3",
      "display_name": "Python 3"
    },
    "language_info": {
      "name": "python"
    }
  },
  "cells": [
    {
      "cell_type": "markdown",
      "metadata": {
        "id": "view-in-github",
        "colab_type": "text"
      },
      "source": [
        "<a href=\"https://colab.research.google.com/github/JohnPatrickChipongian/Numerical-Methods/blob/main/Python_Excercise_2.ipynb\" target=\"_parent\"><img src=\"https://colab.research.google.com/assets/colab-badge.svg\" alt=\"Open In Colab\"/></a>"
      ]
    },
    {
      "cell_type": "code",
      "metadata": {
        "colab": {
          "base_uri": "https://localhost:8080/"
        },
        "id": "kcHLX6WUrtba",
        "outputId": "510f31ec-6d67-423f-8f18-17c706b0faaa"
      },
      "source": [
        "import numpy as np\n",
        "\n",
        "C = np.array([[-5, 0], [4, 1]])\n",
        "H = np.array([[6, -3], [2, 3]])\n",
        "\n",
        "I = C + H      #  Sum\n",
        "P = C - H      #  Diff 1\n",
        "S = H - C      #  Diff 2\n",
        "\n",
        "print(C)\n",
        "print(H)\n",
        "\n",
        "print(\"-----------------------------\")\n",
        "print(I)\n",
        "print(\"-----------------------------\")\n",
        "print(P)\n",
        "print(\"-----------------------------\")\n",
        "print(S)\n",
        "print(\"-----------------------------\")"
      ],
      "execution_count": 2,
      "outputs": [
        {
          "output_type": "stream",
          "name": "stdout",
          "text": [
            "[[-5  0]\n",
            " [ 4  1]]\n",
            "[[ 6 -3]\n",
            " [ 2  3]]\n",
            "-----------------------------\n",
            "[[ 1 -3]\n",
            " [ 6  4]]\n",
            "-----------------------------\n",
            "[[-11   3]\n",
            " [  2  -2]]\n",
            "-----------------------------\n",
            "[[11 -3]\n",
            " [-2  2]]\n",
            "-----------------------------\n"
          ]
        }
      ]
    }
  ]
}