{
  "nbformat": 4,
  "nbformat_minor": 0,
  "metadata": {
    "colab": {
      "name": "Prelim Exam.ipynb",
      "provenance": [],
      "authorship_tag": "ABX9TyNsWeUawAQVchmIk0eHc1tX",
      "include_colab_link": true
    },
    "kernelspec": {
      "name": "python3",
      "display_name": "Python 3"
    },
    "language_info": {
      "name": "python"
    }
  },
  "cells": [
    {
      "cell_type": "markdown",
      "metadata": {
        "id": "view-in-github",
        "colab_type": "text"
      },
      "source": [
        "<a href=\"https://colab.research.google.com/github/JohnPatrickChipongian/Numerical-Methods/blob/main/Prelim_Exam.ipynb\" target=\"_parent\"><img src=\"https://colab.research.google.com/assets/colab-badge.svg\" alt=\"Open In Colab\"/></a>"
      ]
    },
    {
      "cell_type": "markdown",
      "metadata": {
        "id": "3Y6baTB2N_H_"
      },
      "source": [
        "### Question 1"
      ]
    },
    {
      "cell_type": "code",
      "metadata": {
        "colab": {
          "base_uri": "https://localhost:8080/"
        },
        "id": "S0W7zm1OOCw3",
        "outputId": "91530302-eed2-4c0b-b672-aa33fe98d5a3"
      },
      "source": [
        "import numpy as np\n",
        "A = np.array([\n",
        "              [1,2,3],\n",
        "              [2,3,3],\n",
        "              [3,4,-2]\n",
        "])\n",
        "print((np.linalg.det(A)))"
      ],
      "execution_count": 9,
      "outputs": [
        {
          "output_type": "stream",
          "name": "stdout",
          "text": [
            "5.000000000000001\n"
          ]
        }
      ]
    },
    {
      "cell_type": "code",
      "metadata": {
        "colab": {
          "base_uri": "https://localhost:8080/"
        },
        "id": "wODhH9EKS2QU",
        "outputId": "7798d520-f677-414d-fd86-406b7df3b4f7"
      },
      "source": [
        "Det = (A[0][0]*A[1][1]*A[2][2]+A[0][1]*A[1][2]*A[2][0]+A[0][2]*A[1][0]*A[2][1]) - (A[0][2]*A[1][1]*A[2][0]+A[0][1]*A[1][0]*A[2][2]+A[0][0]*A[1][2]*A[2][1])\n",
        "print(Det)"
      ],
      "execution_count": 15,
      "outputs": [
        {
          "output_type": "stream",
          "name": "stdout",
          "text": [
            "5\n"
          ]
        }
      ]
    },
    {
      "cell_type": "markdown",
      "metadata": {
        "id": "yTos3mj2OogB"
      },
      "source": [
        "### Question 2"
      ]
    },
    {
      "cell_type": "code",
      "metadata": {
        "colab": {
          "base_uri": "https://localhost:8080/"
        },
        "id": "Ly2IhjGVOs89",
        "outputId": "346ecb1b-9445-43cf-9a1c-6e64b091cfb5"
      },
      "source": [
        "import numpy as np\n",
        "a = np.array([\n",
        "              [1,2,3],\n",
        "              [2,3,3],\n",
        "              [3,4,-2]\n",
        "])\n",
        "pivot1 = a[1][1] - a[0][1]*a[1][0]\n",
        "pivot2 = a[1][2] - a[0][2]*a[1][0]\n",
        "pivot3 = a[2][1] - a[0][1]*a[2][0]\n",
        "pivot4 = a[2][2] - a[0][2]*a[2][0]\n",
        "\n",
        "pivotMatrix = np.array([\n",
        "                        [pivot1 , pivot2],\n",
        "                        [pivot3, pivot4]\n",
        "])\n",
        "det = pivotMatrix[0][0]*pivotMatrix[0][1] - pivotMatrix[0][1]*pivotMatrix[1][0]\n",
        "\n",
        "print(det)"
      ],
      "execution_count": 20,
      "outputs": [
        {
          "output_type": "stream",
          "name": "stdout",
          "text": [
            "-3\n"
          ]
        }
      ]
    }
  ]
}