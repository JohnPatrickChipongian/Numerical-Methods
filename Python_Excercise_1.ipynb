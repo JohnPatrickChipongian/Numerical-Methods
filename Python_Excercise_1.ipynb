{
  "nbformat": 4,
  "nbformat_minor": 0,
  "metadata": {
    "colab": {
      "name": "Python Excercise 1",
      "provenance": [],
      "authorship_tag": "ABX9TyPlBqNX52qBzi1m7reiqEfT",
      "include_colab_link": true
    },
    "kernelspec": {
      "name": "python3",
      "display_name": "Python 3"
    },
    "language_info": {
      "name": "python"
    }
  },
  "cells": [
    {
      "cell_type": "markdown",
      "metadata": {
        "id": "view-in-github",
        "colab_type": "text"
      },
      "source": [
        "<a href=\"https://colab.research.google.com/github/JohnPatrickChipongian/Numerical-Methods/blob/main/Python_Excercise_1.ipynb\" target=\"_parent\"><img src=\"https://colab.research.google.com/assets/colab-badge.svg\" alt=\"Open In Colab\"/></a>"
      ]
    },
    {
      "cell_type": "code",
      "metadata": {
        "colab": {
          "base_uri": "https://localhost:8080/"
        },
        "id": "G_U8htgMrVbm",
        "outputId": "ec9e5bc2-9de0-41c3-96e4-ab1115afa125"
      },
      "source": [
        "import math\n",
        "\n",
        "print('=========================================')\n",
        "\n",
        "print('Enter your full name:')\n",
        "Input_Name = input()\n",
        "\n",
        "print('=========================================')\n",
        "\n",
        "print('Course:')\n",
        "Input_Course = input()\n",
        "\n",
        "print('=========================================')\n",
        "\n",
        "print(\" Please enter your grade in Preliminary\")\n",
        "Prelim_Grade = int(input())\n",
        "print(\" Please enter your grade in Midterms\")\n",
        "Midterms_Grade = int(input())\n",
        "print(\" Please enter your grade in Finals\")\n",
        "Final_Grade = int(input())\n",
        "\n",
        "\n",
        "\n",
        "Total = (0.3 * Prelim_Grade + 0.3 * Midterms_Grade + 0.4 * Final_Grade)\n",
        "print(\"Your Semestral Grade is:\" + str(Total))"
      ],
      "execution_count": 1,
      "outputs": [
        {
          "output_type": "stream",
          "name": "stdout",
          "text": [
            "=========================================\n",
            "Enter your full name:\n",
            "John Patrick Ryan Chipongian\n",
            "=========================================\n",
            "Course:\n",
            "CpE\n",
            "=========================================\n",
            " Please enter your grade in Preliminary\n",
            "90\n",
            " Please enter your grade in Midterms\n",
            "88\n",
            " Please enter your grade in Finals\n",
            "87\n",
            "Your Semestral Grade is:88.2\n"
          ]
        }
      ]
    }
  ]
}