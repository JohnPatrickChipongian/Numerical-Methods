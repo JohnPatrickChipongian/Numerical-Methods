{
  "nbformat": 4,
  "nbformat_minor": 0,
  "metadata": {
    "colab": {
      "name": "DEMO 1",
      "provenance": [],
      "authorship_tag": "ABX9TyOELbuws5WkLYAm38b32xqc",
      "include_colab_link": true
    },
    "kernelspec": {
      "name": "python3",
      "display_name": "Python 3"
    },
    "language_info": {
      "name": "python"
    }
  },
  "cells": [
    {
      "cell_type": "markdown",
      "metadata": {
        "id": "view-in-github",
        "colab_type": "text"
      },
      "source": [
        "<a href=\"https://colab.research.google.com/github/JohnPatrickChipongian/Numerical-Methods/blob/main/DEMO_1.ipynb\" target=\"_parent\"><img src=\"https://colab.research.google.com/assets/colab-badge.svg\" alt=\"Open In Colab\"/></a>"
      ]
    },
    {
      "cell_type": "code",
      "metadata": {
        "colab": {
          "base_uri": "https://localhost:8080/"
        },
        "id": "BlkAv_LirADz",
        "outputId": "650441b5-ce3f-4b9d-804c-38de389f5909"
      },
      "source": [
        "A = 5\n",
        "B = 4\n",
        "print( A+ B)\n",
        "\n",
        "A = 5\n",
        "B = 3\n",
        "Compare= A<B\n",
        "print(Compare)\n",
        "\n",
        "\n",
        "\n",
        "A = 10\n",
        "B = 10\n",
        "\n",
        "A is B\n",
        "\n",
        "\n",
        "A= \"enjoying\"\n",
        "print( \"Python programming is\" + A)"
      ],
      "execution_count": 3,
      "outputs": [
        {
          "output_type": "stream",
          "name": "stdout",
          "text": [
            "9\n",
            "False\n",
            "Python programming isenjoying\n"
          ]
        }
      ]
    }
  ]
}